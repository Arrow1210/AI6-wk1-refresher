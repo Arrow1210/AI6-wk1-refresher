{
 "cells": [
  {
   "cell_type": "markdown",
   "metadata": {},
   "source": [
    "# AI6 KL Week 1 Python Refresher\n",
    "Some material from this notebook have been adapted the CS228 Python tutorial notebook - https://github.com/kuleshov/cs228-material/blob/master/tutorials/python/cs228-python-tutorial.ipynb and further appropriated for beginner level users of Python."
   ]
  },
  {
   "cell_type": "markdown",
   "metadata": {},
   "source": [
    "## Introduction¶\n",
    "Python is a great general-purpose programming language on its own, but with the help of a few popular libraries (numpy, scipy, matplotlib) it becomes a powerful environment for scientific computing.\n",
    "\n",
    "We expect that many of you will have some experience with Python and numpy; for the rest of you, this section will serve as a quick crash course both on the Python programming language and on the use of Python for scientific computing.\n",
    "\n",
    "In this tutorial, we will cover:\n",
    "\n",
    "-  Basic Python: Basic data types, Variables, Lists, Control Flow, Functions, Classes\n",
    "-  Numpy: Arrays, Array indexing, Datatypes, Array math\n",
    "-  Matplotlib: Plotting, Subplots, Images\n",
    "\n",
    "## Basics of Python\n",
    "Python is a high-level, dynamically typed multiparadigm programming language. Python code is often said to be almost like pseudocode, since it allows you to express very powerful ideas in very few lines of code while being very readable.\n",
    "\n",
    "## Python Versions\n",
    "\n",
    "There are currently two different supported versions of Python, 2.7 and 3.6 (as of Jan 2018). Somewhat confusingly, Python 3.x introduced many backwards-incompatible changes to the language, so code written for 2.7 may not work under 3.6 and vice versa. \n",
    "\n",
    "By default, Python 3.6.3 is installed when you installed the latest version of Anaconda3. Python 2.7 is gradually being phased out in most Machine Learning libraries so we won't be using it for this tutorial. \n",
    "\n",
    "While we aim to be as comprehensive as possible, it is going to be impossible to teach you everything about Python in one sitting, so we recommend that you get used to going through the documentation(https://docs.python.org/3/) for Python. It's always good to read through it to learn about additional functions or tricks.\n",
    "\n",
    "## Basic Data Types\n",
    "### Integers\n",
    "In the following cell we assign the integer 5 to the variable x. Variables are what Python uses to store data. Variables can be named with alphanumeric characters."
   ]
  },
  {
   "cell_type": "code",
   "execution_count": 2,
   "metadata": {},
   "outputs": [],
   "source": [
    "x = 5"
   ]
  },
  {
   "cell_type": "code",
   "execution_count": 11,
   "metadata": {},
   "outputs": [
    {
     "name": "stdout",
     "output_type": "stream",
     "text": [
      "5 <class 'int'>\n"
     ]
    }
   ],
   "source": [
    "# This is a comment, they do not get executed even though they are in the code block\n",
    "# Comments are used to make code more readable\n",
    "print(x, type(x)) # This prints out the value of x and the data type of x"
   ]
  },
  {
   "cell_type": "code",
   "execution_count": 13,
   "metadata": {},
   "outputs": [
    {
     "name": "stdout",
     "output_type": "stream",
     "text": [
      "6\n",
      "4\n",
      "10\n",
      "25\n"
     ]
    }
   ],
   "source": [
    "print(x + 1)   # Addition;\n",
    "print(x - 1)   # Subtraction;\n",
    "print(x * 2)   # Multiplication;\n",
    "print(x ** 2)  # Exponentiation;"
   ]
  },
  {
   "cell_type": "code",
   "execution_count": 15,
   "metadata": {},
   "outputs": [
    {
     "name": "stdout",
     "output_type": "stream",
     "text": [
      "6\n",
      "12\n"
     ]
    }
   ],
   "source": [
    "x += 1\n",
    "print(x)  # Prints \"4\"\n",
    "x *= 2\n",
    "print(x) # Prints \"8\""
   ]
  },
  {
   "cell_type": "code",
   "execution_count": null,
   "metadata": {},
   "outputs": [],
   "source": []
  }
 ],
 "metadata": {
  "kernelspec": {
   "display_name": "Python (py35-dl)",
   "language": "python",
   "name": "py35-dl"
  },
  "language_info": {
   "codemirror_mode": {
    "name": "ipython",
    "version": 3
   },
   "file_extension": ".py",
   "mimetype": "text/x-python",
   "name": "python",
   "nbconvert_exporter": "python",
   "pygments_lexer": "ipython3",
   "version": "3.5.4"
  }
 },
 "nbformat": 4,
 "nbformat_minor": 2
}
